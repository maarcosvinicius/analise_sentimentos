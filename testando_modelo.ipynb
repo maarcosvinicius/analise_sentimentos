{
 "cells": [
  {
   "cell_type": "code",
   "execution_count": 3,
   "metadata": {},
   "outputs": [],
   "source": [
    "# Carregar biblioteca de ler arquivos pkl\n",
    "import joblib\n",
    "\n",
    "import pandas as pd"
   ]
  },
  {
   "cell_type": "code",
   "execution_count": 45,
   "metadata": {},
   "outputs": [
    {
     "name": "stderr",
     "output_type": "stream",
     "text": [
      "C:\\Users\\marco\\AppData\\Local\\Temp\\ipykernel_3272\\4171674192.py:3: DtypeWarning: Columns (1) have mixed types. Specify dtype option on import or set low_memory=False.\n",
      "  df = pd.read_csv(\"base_teste.csv\")\n"
     ]
    }
   ],
   "source": [
    "# Importando base de dados\n",
    "\n",
    "df = pd.read_csv(\"base_teste.csv\")"
   ]
  },
  {
   "cell_type": "code",
   "execution_count": 13,
   "metadata": {},
   "outputs": [
    {
     "data": {
      "text/plain": [
       "Index(['dataset', 'original_index', 'review_text', 'review_text_processed',\n",
       "       'review_text_tokenized', 'polarity', 'rating', 'kfold_polarity',\n",
       "       'kfold_rating'],\n",
       "      dtype='object')"
      ]
     },
     "execution_count": 13,
     "metadata": {},
     "output_type": "execute_result"
    }
   ],
   "source": [
    "df.columns"
   ]
  },
  {
   "cell_type": "code",
   "execution_count": 46,
   "metadata": {},
   "outputs": [],
   "source": [
    "# Salvando colunas necessárias\n",
    "df = df[['dataset', 'review_text', 'polarity']]"
   ]
  },
  {
   "cell_type": "code",
   "execution_count": 47,
   "metadata": {},
   "outputs": [
    {
     "data": {
      "text/html": [
       "<div>\n",
       "<style scoped>\n",
       "    .dataframe tbody tr th:only-of-type {\n",
       "        vertical-align: middle;\n",
       "    }\n",
       "\n",
       "    .dataframe tbody tr th {\n",
       "        vertical-align: top;\n",
       "    }\n",
       "\n",
       "    .dataframe thead th {\n",
       "        text-align: right;\n",
       "    }\n",
       "</style>\n",
       "<table border=\"1\" class=\"dataframe\">\n",
       "  <thead>\n",
       "    <tr style=\"text-align: right;\">\n",
       "      <th></th>\n",
       "      <th>dataset</th>\n",
       "      <th>review_text</th>\n",
       "      <th>polarity</th>\n",
       "    </tr>\n",
       "  </thead>\n",
       "  <tbody>\n",
       "    <tr>\n",
       "      <th>0</th>\n",
       "      <td>b2w</td>\n",
       "      <td>Bem macio e felpudo...recomendo.  Preço imbatí...</td>\n",
       "      <td>1.0</td>\n",
       "    </tr>\n",
       "    <tr>\n",
       "      <th>1</th>\n",
       "      <td>b2w</td>\n",
       "      <td>Produto excepcional!  recomendo!!! inovador e ...</td>\n",
       "      <td>1.0</td>\n",
       "    </tr>\n",
       "    <tr>\n",
       "      <th>2</th>\n",
       "      <td>b2w</td>\n",
       "      <td>recebi o produto antes do prazo mas veio com d...</td>\n",
       "      <td>0.0</td>\n",
       "    </tr>\n",
       "    <tr>\n",
       "      <th>3</th>\n",
       "      <td>b2w</td>\n",
       "      <td>Bom custo beneficio. Adequado para pessoas que...</td>\n",
       "      <td>1.0</td>\n",
       "    </tr>\n",
       "    <tr>\n",
       "      <th>4</th>\n",
       "      <td>b2w</td>\n",
       "      <td>Além de higiênico tem o tamanho ideal. Só falt...</td>\n",
       "      <td>NaN</td>\n",
       "    </tr>\n",
       "  </tbody>\n",
       "</table>\n",
       "</div>"
      ],
      "text/plain": [
       "  dataset                                        review_text  polarity\n",
       "0     b2w  Bem macio e felpudo...recomendo.  Preço imbatí...       1.0\n",
       "1     b2w  Produto excepcional!  recomendo!!! inovador e ...       1.0\n",
       "2     b2w  recebi o produto antes do prazo mas veio com d...       0.0\n",
       "3     b2w  Bom custo beneficio. Adequado para pessoas que...       1.0\n",
       "4     b2w  Além de higiênico tem o tamanho ideal. Só falt...       NaN"
      ]
     },
     "execution_count": 47,
     "metadata": {},
     "output_type": "execute_result"
    }
   ],
   "source": [
    "df.head()"
   ]
  },
  {
   "cell_type": "code",
   "execution_count": 48,
   "metadata": {},
   "outputs": [],
   "source": [
    "# Eliminar linhas nulas\n",
    "\n",
    "df = df[df['polarity'].notna()]\n",
    "df = df[df['review_text'].notna()]"
   ]
  },
  {
   "cell_type": "code",
   "execution_count": 49,
   "metadata": {},
   "outputs": [
    {
     "name": "stdout",
     "output_type": "stream",
     "text": [
      "<class 'pandas.core.frame.DataFrame'>\n",
      "Index: 2386163 entries, 0 to 2786091\n",
      "Data columns (total 3 columns):\n",
      " #   Column       Dtype  \n",
      "---  ------       -----  \n",
      " 0   dataset      object \n",
      " 1   review_text  object \n",
      " 2   polarity     float64\n",
      "dtypes: float64(1), object(2)\n",
      "memory usage: 72.8+ MB\n"
     ]
    }
   ],
   "source": [
    "df.info()"
   ]
  },
  {
   "cell_type": "code",
   "execution_count": 50,
   "metadata": {},
   "outputs": [],
   "source": [
    "# Carregar o modelo e o vetorizador para fazer previsões em novos dados\n",
    "modelo_carregado = joblib.load('modelo_regressao_logistica.pkl')\n",
    "tfidf_carregado = joblib.load('tfidf_vectorizer.pkl')"
   ]
  },
  {
   "cell_type": "code",
   "execution_count": 51,
   "metadata": {},
   "outputs": [],
   "source": [
    "# Fazendo aplicação com os dados\n",
    "novo_dado = tfidf_carregado.transform(df['review_text'])"
   ]
  },
  {
   "cell_type": "code",
   "execution_count": 52,
   "metadata": {},
   "outputs": [
    {
     "name": "stdout",
     "output_type": "stream",
     "text": [
      "  (1, 16556)\t0.4969766346975826\n",
      "  (1, 27428)\t0.8027531785842992\n",
      "  (1, 37302)\t0.32954750619215706\n",
      "  (2, 13766)\t0.16055122763011218\n",
      "  (2, 16027)\t0.40276591596661476\n",
      "  (2, 18931)\t0.2511675788013183\n",
      "  (2, 40066)\t0.3766998048365952\n",
      "  (2, 43584)\t0.35063369370657566\n",
      "  (2, 49598)\t0.3835560888900776\n",
      "  (2, 51912)\t0.40276591596661476\n",
      "  (2, 63396)\t0.4180136135173066\n",
      "  (3, 11480)\t0.4163554010065353\n",
      "  (3, 16556)\t0.30140100400234543\n",
      "  (3, 18931)\t0.5850512433769688\n",
      "  (3, 50923)\t0.25061667162353907\n",
      "  (3, 61632)\t0.4868450488393932\n",
      "  (3, 64426)\t0.2344805620647986\n",
      "  (3, 64893)\t0.19675544668652087\n",
      "  (4, 4948)\t0.7643413485277342\n",
      "  (4, 8700)\t0.20342458825151602\n",
      "  (4, 18931)\t0.6118829461796644\n",
      "  (6, 22467)\t0.7021939050396571\n",
      "  (6, 44701)\t0.7119857580915204\n",
      "  (7, 24678)\t0.6934847720225035\n",
      "  (7, 46260)\t0.6063913149097716\n",
      "  :\t:\n",
      "  (2386158, 49268)\t0.445088799052585\n",
      "  (2386159, 13766)\t0.26872360937730644\n",
      "  (2386159, 16556)\t0.4331482421316286\n",
      "  (2386159, 37078)\t0.2506915577579973\n",
      "  (2386159, 50923)\t0.7203305186187821\n",
      "  (2386159, 64427)\t0.39805515813361614\n",
      "  (2386160, 8700)\t0.5761918002148304\n",
      "  (2386160, 57266)\t0.817314510678229\n",
      "  (2386161, 242)\t0.11242720517054358\n",
      "  (2386161, 16027)\t0.2013603949309869\n",
      "  (2386161, 16556)\t0.646897853569664\n",
      "  (2386161, 18931)\t0.37670915678092337\n",
      "  (2386161, 20853)\t0.2013603949309869\n",
      "  (2386161, 42557)\t0.2089833895263142\n",
      "  (2386161, 44701)\t0.17110196760232252\n",
      "  (2386161, 45533)\t0.07264695706379436\n",
      "  (2386161, 46260)\t0.335348419332827\n",
      "  (2386161, 61712)\t0.1502748936376616\n",
      "  (2386161, 64426)\t0.3019597883668885\n",
      "  (2386161, 64427)\t0.11889741310353417\n",
      "  (2386161, 65011)\t0.053605831114868406\n",
      "  (2386161, 65290)\t0.15627848198910557\n",
      "  (2386162, 1863)\t0.5701164270263149\n",
      "  (2386162, 49388)\t0.5916995911009505\n",
      "  (2386162, 64426)\t0.5699639054586849\n"
     ]
    }
   ],
   "source": [
    "print(novo_dado)"
   ]
  },
  {
   "cell_type": "code",
   "execution_count": 26,
   "metadata": {},
   "outputs": [],
   "source": [
    "# Criar DataFrame esparsa\n",
    "matriz_esparsa2 = pd.DataFrame.sparse.from_spmatrix(novo_dado,\n",
    "                                                    columns=tfidf_carregado.get_feature_names_out())"
   ]
  },
  {
   "cell_type": "code",
   "execution_count": null,
   "metadata": {},
   "outputs": [],
   "source": [
    "matriz_esparsa2"
   ]
  },
  {
   "cell_type": "code",
   "execution_count": 53,
   "metadata": {},
   "outputs": [
    {
     "name": "stdout",
     "output_type": "stream",
     "text": [
      "Resultado da previsão: [1 1 0 ... 0 1 1]\n"
     ]
    }
   ],
   "source": [
    "previsao = modelo_carregado.predict(novo_dado)\n",
    "\n",
    "print(\"Resultado da previsão:\", previsao)"
   ]
  },
  {
   "cell_type": "code",
   "execution_count": 54,
   "metadata": {},
   "outputs": [],
   "source": [
    "# Criar uma nova coluna chamada 'previsao' com os resultados da previsão\n",
    "df['previsao'] = previsao"
   ]
  },
  {
   "cell_type": "code",
   "execution_count": 55,
   "metadata": {},
   "outputs": [],
   "source": [
    "# eliminando o .0 da coluna\n",
    "df['polarity'] = df['polarity'].astype(str)\n",
    "df['polarity'] = df['polarity'].str.replace(\".0\", \"\")"
   ]
  },
  {
   "cell_type": "code",
   "execution_count": 56,
   "metadata": {},
   "outputs": [],
   "source": [
    "df['review_text'] = df['review_text'].str.replace(r'\\r\\n', '')\n",
    "df['review_text'] = df['review_text'].str.replace(r'\\n', '')\n",
    "df['review_text'] = df['review_text'].str.replace(r'\\r', '')\n",
    "df['review_text'] = df['review_text'].str.strip()"
   ]
  },
  {
   "cell_type": "code",
   "execution_count": 60,
   "metadata": {},
   "outputs": [],
   "source": [
    "# Baixar base de dados\n",
    "\n",
    "df.to_csv('aplicacao_ml_sentimentos.csv', sep=',', index=False)"
   ]
  },
  {
   "cell_type": "code",
   "execution_count": 61,
   "metadata": {},
   "outputs": [],
   "source": [
    "df1 = df"
   ]
  },
  {
   "cell_type": "code",
   "execution_count": 64,
   "metadata": {},
   "outputs": [],
   "source": [
    "mask = df['review_text'].str.contains(';')\n",
    "filtered_df = df[mask]"
   ]
  },
  {
   "cell_type": "code",
   "execution_count": 65,
   "metadata": {},
   "outputs": [
    {
     "data": {
      "text/html": [
       "<div>\n",
       "<style scoped>\n",
       "    .dataframe tbody tr th:only-of-type {\n",
       "        vertical-align: middle;\n",
       "    }\n",
       "\n",
       "    .dataframe tbody tr th {\n",
       "        vertical-align: top;\n",
       "    }\n",
       "\n",
       "    .dataframe thead th {\n",
       "        text-align: right;\n",
       "    }\n",
       "</style>\n",
       "<table border=\"1\" class=\"dataframe\">\n",
       "  <thead>\n",
       "    <tr style=\"text-align: right;\">\n",
       "      <th></th>\n",
       "      <th>dataset</th>\n",
       "      <th>review_text</th>\n",
       "      <th>polarity</th>\n",
       "      <th>previsao</th>\n",
       "    </tr>\n",
       "  </thead>\n",
       "  <tbody>\n",
       "    <tr>\n",
       "      <th>161</th>\n",
       "      <td>b2w</td>\n",
       "      <td>Minha casa, minhas roupas viviam com pelo de g...</td>\n",
       "      <td>1</td>\n",
       "      <td>1</td>\n",
       "    </tr>\n",
       "    <tr>\n",
       "      <th>209</th>\n",
       "      <td>b2w</td>\n",
       "      <td>O encosto veio com vários arames amassados, fa...</td>\n",
       "      <td>0</td>\n",
       "      <td>0</td>\n",
       "    </tr>\n",
       "    <tr>\n",
       "      <th>256</th>\n",
       "      <td>b2w</td>\n",
       "      <td>Ridiculo isso um site grande desse me enviar u...</td>\n",
       "      <td>0</td>\n",
       "      <td>1</td>\n",
       "    </tr>\n",
       "    <tr>\n",
       "      <th>313</th>\n",
       "      <td>b2w</td>\n",
       "      <td>A Americanas salvaram  um tio meu com esse pro...</td>\n",
       "      <td>1</td>\n",
       "      <td>0</td>\n",
       "    </tr>\n",
       "    <tr>\n",
       "      <th>955</th>\n",
       "      <td>b2w</td>\n",
       "      <td>Comprei o microfone da galinha pintadinha e ve...</td>\n",
       "      <td>0</td>\n",
       "      <td>0</td>\n",
       "    </tr>\n",
       "    <tr>\n",
       "      <th>...</th>\n",
       "      <td>...</td>\n",
       "      <td>...</td>\n",
       "      <td>...</td>\n",
       "      <td>...</td>\n",
       "    </tr>\n",
       "    <tr>\n",
       "      <th>2785904</th>\n",
       "      <td>buscape</td>\n",
       "      <td>Eu comprei um monitor da marca AOC e até hoje ...</td>\n",
       "      <td>1</td>\n",
       "      <td>1</td>\n",
       "    </tr>\n",
       "    <tr>\n",
       "      <th>2785912</th>\n",
       "      <td>buscape</td>\n",
       "      <td>aparelho muito bom, boa relação custo benefíci...</td>\n",
       "      <td>1</td>\n",
       "      <td>1</td>\n",
       "    </tr>\n",
       "    <tr>\n",
       "      <th>2785943</th>\n",
       "      <td>buscape</td>\n",
       "      <td>Utilizo para impressão coloridas, e de documen...</td>\n",
       "      <td>1</td>\n",
       "      <td>1</td>\n",
       "    </tr>\n",
       "    <tr>\n",
       "      <th>2786012</th>\n",
       "      <td>buscape</td>\n",
       "      <td>esta TV tem a melhor imagem q eu já vi!!  tenh...</td>\n",
       "      <td>1</td>\n",
       "      <td>1</td>\n",
       "    </tr>\n",
       "    <tr>\n",
       "      <th>2786060</th>\n",
       "      <td>buscape</td>\n",
       "      <td>Não me arrependo de ter comprado, o aparelho é...</td>\n",
       "      <td>1</td>\n",
       "      <td>1</td>\n",
       "    </tr>\n",
       "  </tbody>\n",
       "</table>\n",
       "<p>28847 rows × 4 columns</p>\n",
       "</div>"
      ],
      "text/plain": [
       "         dataset                                        review_text polarity  \\\n",
       "161          b2w  Minha casa, minhas roupas viviam com pelo de g...        1   \n",
       "209          b2w  O encosto veio com vários arames amassados, fa...        0   \n",
       "256          b2w  Ridiculo isso um site grande desse me enviar u...        0   \n",
       "313          b2w  A Americanas salvaram  um tio meu com esse pro...        1   \n",
       "955          b2w  Comprei o microfone da galinha pintadinha e ve...        0   \n",
       "...          ...                                                ...      ...   \n",
       "2785904  buscape  Eu comprei um monitor da marca AOC e até hoje ...        1   \n",
       "2785912  buscape  aparelho muito bom, boa relação custo benefíci...        1   \n",
       "2785943  buscape  Utilizo para impressão coloridas, e de documen...        1   \n",
       "2786012  buscape  esta TV tem a melhor imagem q eu já vi!!  tenh...        1   \n",
       "2786060  buscape  Não me arrependo de ter comprado, o aparelho é...        1   \n",
       "\n",
       "         previsao  \n",
       "161             1  \n",
       "209             0  \n",
       "256             1  \n",
       "313             0  \n",
       "955             0  \n",
       "...           ...  \n",
       "2785904         1  \n",
       "2785912         1  \n",
       "2785943         1  \n",
       "2786012         1  \n",
       "2786060         1  \n",
       "\n",
       "[28847 rows x 4 columns]"
      ]
     },
     "execution_count": 65,
     "metadata": {},
     "output_type": "execute_result"
    }
   ],
   "source": [
    "filtered_df"
   ]
  },
  {
   "cell_type": "code",
   "execution_count": 58,
   "metadata": {},
   "outputs": [
    {
     "data": {
      "text/html": [
       "<div>\n",
       "<style scoped>\n",
       "    .dataframe tbody tr th:only-of-type {\n",
       "        vertical-align: middle;\n",
       "    }\n",
       "\n",
       "    .dataframe tbody tr th {\n",
       "        vertical-align: top;\n",
       "    }\n",
       "\n",
       "    .dataframe thead th {\n",
       "        text-align: right;\n",
       "    }\n",
       "</style>\n",
       "<table border=\"1\" class=\"dataframe\">\n",
       "  <thead>\n",
       "    <tr style=\"text-align: right;\">\n",
       "      <th></th>\n",
       "      <th>dataset</th>\n",
       "      <th>review_text</th>\n",
       "      <th>polarity</th>\n",
       "      <th>previsao</th>\n",
       "    </tr>\n",
       "  </thead>\n",
       "  <tbody>\n",
       "    <tr>\n",
       "      <th>0</th>\n",
       "      <td>b2w</td>\n",
       "      <td>Bem macio e felpudo...recomendo.  Preço imbatí...</td>\n",
       "      <td>1</td>\n",
       "      <td>1</td>\n",
       "    </tr>\n",
       "    <tr>\n",
       "      <th>1</th>\n",
       "      <td>b2w</td>\n",
       "      <td>Produto excepcional!  recomendo!!! inovador e ...</td>\n",
       "      <td>1</td>\n",
       "      <td>1</td>\n",
       "    </tr>\n",
       "    <tr>\n",
       "      <th>2</th>\n",
       "      <td>b2w</td>\n",
       "      <td>recebi o produto antes do prazo mas veio com d...</td>\n",
       "      <td>0</td>\n",
       "      <td>0</td>\n",
       "    </tr>\n",
       "    <tr>\n",
       "      <th>3</th>\n",
       "      <td>b2w</td>\n",
       "      <td>Bom custo beneficio. Adequado para pessoas que...</td>\n",
       "      <td>1</td>\n",
       "      <td>0</td>\n",
       "    </tr>\n",
       "    <tr>\n",
       "      <th>5</th>\n",
       "      <td>b2w</td>\n",
       "      <td>ótmo produto atendeu as expectativas, a entreg...</td>\n",
       "      <td>1</td>\n",
       "      <td>1</td>\n",
       "    </tr>\n",
       "    <tr>\n",
       "      <th>...</th>\n",
       "      <td>...</td>\n",
       "      <td>...</td>\n",
       "      <td>...</td>\n",
       "      <td>...</td>\n",
       "    </tr>\n",
       "    <tr>\n",
       "      <th>2786085</th>\n",
       "      <td>buscape</td>\n",
       "      <td>Excelente custo-benefício apresentado por este...</td>\n",
       "      <td>1</td>\n",
       "      <td>0</td>\n",
       "    </tr>\n",
       "    <tr>\n",
       "      <th>2786086</th>\n",
       "      <td>buscape</td>\n",
       "      <td>Game muito legal, com uma grande variedade de ...</td>\n",
       "      <td>1</td>\n",
       "      <td>1</td>\n",
       "    </tr>\n",
       "    <tr>\n",
       "      <th>2786087</th>\n",
       "      <td>buscape</td>\n",
       "      <td>Produto muito bom, simples e barato</td>\n",
       "      <td>1</td>\n",
       "      <td>0</td>\n",
       "    </tr>\n",
       "    <tr>\n",
       "      <th>2786089</th>\n",
       "      <td>buscape</td>\n",
       "      <td>Esse jogo é muito maneiro é um jogo onde vc te...</td>\n",
       "      <td>1</td>\n",
       "      <td>1</td>\n",
       "    </tr>\n",
       "    <tr>\n",
       "      <th>2786091</th>\n",
       "      <td>buscape</td>\n",
       "      <td>Meu irmão possui um e acho excelente, estou ec...</td>\n",
       "      <td>1</td>\n",
       "      <td>1</td>\n",
       "    </tr>\n",
       "  </tbody>\n",
       "</table>\n",
       "<p>2386163 rows × 4 columns</p>\n",
       "</div>"
      ],
      "text/plain": [
       "         dataset                                        review_text polarity  \\\n",
       "0            b2w  Bem macio e felpudo...recomendo.  Preço imbatí...        1   \n",
       "1            b2w  Produto excepcional!  recomendo!!! inovador e ...        1   \n",
       "2            b2w  recebi o produto antes do prazo mas veio com d...        0   \n",
       "3            b2w  Bom custo beneficio. Adequado para pessoas que...        1   \n",
       "5            b2w  ótmo produto atendeu as expectativas, a entreg...        1   \n",
       "...          ...                                                ...      ...   \n",
       "2786085  buscape  Excelente custo-benefício apresentado por este...        1   \n",
       "2786086  buscape  Game muito legal, com uma grande variedade de ...        1   \n",
       "2786087  buscape                Produto muito bom, simples e barato        1   \n",
       "2786089  buscape  Esse jogo é muito maneiro é um jogo onde vc te...        1   \n",
       "2786091  buscape  Meu irmão possui um e acho excelente, estou ec...        1   \n",
       "\n",
       "         previsao  \n",
       "0               1  \n",
       "1               1  \n",
       "2               0  \n",
       "3               0  \n",
       "5               1  \n",
       "...           ...  \n",
       "2786085         0  \n",
       "2786086         1  \n",
       "2786087         0  \n",
       "2786089         1  \n",
       "2786091         1  \n",
       "\n",
       "[2386163 rows x 4 columns]"
      ]
     },
     "execution_count": 58,
     "metadata": {},
     "output_type": "execute_result"
    }
   ],
   "source": [
    "df"
   ]
  }
 ],
 "metadata": {
  "kernelspec": {
   "display_name": ".as",
   "language": "python",
   "name": "python3"
  },
  "language_info": {
   "codemirror_mode": {
    "name": "ipython",
    "version": 3
   },
   "file_extension": ".py",
   "mimetype": "text/x-python",
   "name": "python",
   "nbconvert_exporter": "python",
   "pygments_lexer": "ipython3",
   "version": "3.12.3"
  }
 },
 "nbformat": 4,
 "nbformat_minor": 2
}
